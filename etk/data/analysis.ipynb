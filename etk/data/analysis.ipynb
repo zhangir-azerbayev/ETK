{
 "cells": [
  {
   "cell_type": "code",
   "execution_count": 10,
   "id": "2c6737a7",
   "metadata": {},
   "outputs": [],
   "source": [
    "from mathqa_dataset import read_gsm8k\n",
    "import matplotlib.pyplot as plt"
   ]
  },
  {
   "cell_type": "code",
   "execution_count": 2,
   "id": "569200e5",
   "metadata": {},
   "outputs": [],
   "source": [
    "train = read_gsm8k('gsm8k/gsm8k_train.jsonl')"
   ]
  },
  {
   "cell_type": "code",
   "execution_count": 5,
   "id": "ef29a1d5",
   "metadata": {},
   "outputs": [
    {
     "name": "stdout",
     "output_type": "stream",
     "text": [
      "# The total average age of three friends is 40. Jared is ten years older than Hakimi, and Molly's age is 30. How old is Hakimi?\n",
      "n0 = 40 \n",
      "n1 = 10 \n",
      "n2 = 30 \n",
      "t0 = 3 * n0 \n",
      "t1 = t0 - n2\n",
      "answer = (t1 - n1) / 2\n",
      "\n",
      "# A carpenter worked alone for 1 day on a job that would take him 7 more days to finish. He and another carpenter completed the job in 4 more days. How many days would it have taken the second carpenter to do the complete job working alone? \n",
      "n0 = 1.0\n",
      "n1 = 7.0\n",
      "n2 = 4.0\n",
      "t0 = n0 + n1\n",
      "t1 = n2 * t0\n",
      "answer = t1 / 2.0\n",
      "\n",
      "# In two alloys, copper and tin are related in the ratios of 4 : 1 and 1 : 3. 10 kg of ist alloy, 16 kg of the 2nd alloy and some pure copper are melted together. An alloy is obtained in which the ratio of copper and tin was 3 : 2 . Find the weight of the new alloy. \n",
      "n0 = 4.0\n",
      "n1 = 1.0\n",
      "n2 = 1.0\n",
      "n3 = 3.0\n",
      "n4 = 10.0\n",
      "n5 = 16.0\n",
      "n6 = 2.0\n",
      "n7 = 3.0\n",
      "n8 = 2.0\n",
      "t0 = n4 + n5\n",
      "t1 = n0 + n1\n",
      "t2 = n3 / n0\n",
      "t3 = n4 / t1\n",
      "t4 = n5 * t2\n",
      "t5 = t3 + t4\n",
      "t6 = n3 * t5\n",
      "t7 = t6 / n6\n",
      "t8 = t7 - t4\n",
      "answer = t0 + t8\n",
      "\n",
      "\n"
     ]
    }
   ],
   "source": [
    "prompt = open('../few_shot/gsm8k_prompt.txt').read()\n",
    "print(prompt)"
   ]
  },
  {
   "cell_type": "code",
   "execution_count": 7,
   "id": "a3c7290b",
   "metadata": {},
   "outputs": [],
   "source": [
    "from transformers import GPT2Tokenizer\n",
    "tokenizer = GPT2Tokenizer.from_pretrained('EleutherAI/gpt-neo-1.3B')"
   ]
  },
  {
   "cell_type": "code",
   "execution_count": 12,
   "id": "b72a340b",
   "metadata": {},
   "outputs": [],
   "source": [
    "prompt_lengths = [len(tokenizer.encode(prompt + x.text)) for x in train]"
   ]
  },
  {
   "cell_type": "code",
   "execution_count": 13,
   "id": "f1fb0e54",
   "metadata": {},
   "outputs": [
    {
     "data": {
      "image/png": "[encoded data removed]",
      "text/plain": [
       "<Figure size 432x288 with 1 Axes>"
      ]
     },
     "metadata": {
      "needs_background": "light"
     },
     "output_type": "display_data"
    }
   ],
   "source": [
    "plt.hist(prompt_lengths)\n",
    "plt.show()"
   ]
  }
 ],
 "metadata": {
  "kernelspec": {
   "display_name": "Python 3 (ipykernel)",
   "language": "python",
   "name": "python3"
  },
  "language_info": {
   "codemirror_mode": {
    "name": "ipython",
    "version": 3
   },
   "file_extension": ".py",
   "mimetype": "text/x-python",
   "name": "python",
   "nbconvert_exporter": "python",
   "pygments_lexer": "ipython3",
   "version": "3.9.7"
  }
 },
 "nbformat": 4,
 "nbformat_minor": 5
}
